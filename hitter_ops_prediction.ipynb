{
  "nbformat": 4,
  "nbformat_minor": 0,
  "metadata": {
    "colab": {
      "name": "hitter_ops_prediction.ipynb",
      "provenance": [],
      "mount_file_id": "1DEsl3HGpMf0RaACSlTVfICdDmBCLBWEL",
      "authorship_tag": "ABX9TyOhQn114vh8hwzNxxhUTQuw",
      "include_colab_link": true
    },
    "kernelspec": {
      "name": "python3",
      "display_name": "Python 3"
    }
  },
  "cells": [
    {
      "cell_type": "markdown",
      "metadata": {
        "id": "view-in-github",
        "colab_type": "text"
      },
      "source": [
        "<a href=\"https://colab.research.google.com/github/JunmoJeong/algorithms/blob/main/hitter_ops_prediction.ipynb\" target=\"_parent\"><img src=\"https://colab.research.google.com/assets/colab-badge.svg\" alt=\"Open In Colab\"/></a>"
      ]
    },
    {
      "cell_type": "code",
      "metadata": {
        "id": "xXiwgrFYbjUu"
      },
      "source": [
        "from matplotlib import font_manager, rc\n",
        "import matplotlib\n",
        "import matplotlib.pyplot as plt\n",
        "import seaborn as sns\n",
        "import pandas as pd\n",
        "import numpy as np\n",
        "import platform"
      ],
      "execution_count": null,
      "outputs": []
    },
    {
      "cell_type": "code",
      "metadata": {
        "id": "26Le9-oUch_C"
      },
      "source": [
        "'''if platform.system() == 'Windows':\n",
        "  # Window 경우 맑은 고딕 폰트 이용\n",
        "  font_name = font_manager.FontProperties(fname=\"c:/Windows/Fonts/malgun.ttf\").get_name()\n",
        "  rc('font', family=font_name)\n",
        "else:\n",
        "  # Mac \n",
        "  rc('font', family='AppleGothic')\n",
        "'''"
      ],
      "execution_count": null,
      "outputs": []
    },
    {
      "cell_type": "code",
      "metadata": {
        "id": "TOfyIhx5dkCn"
      },
      "source": [
        "# 그래프에서 마이너스 기호가 표시되게 하는 설정\n",
        "matplotlib.rcParams['axes.unicode_minus'] = False\n"
      ],
      "execution_count": null,
      "outputs": []
    },
    {
      "cell_type": "code",
      "metadata": {
        "colab": {
          "base_uri": "https://localhost:8080/"
        },
        "id": "QCKNQEYneZZ_",
        "outputId": "7ecc275a-3c8f-40ce-9db6-8b6ad4d80dac"
      },
      "source": [
        "# 프리시즌 데이터 분석(시즌 개막 전 약 2주 동안 시범경기)\n",
        "# 팀별로 5개 팀과 2차전까지 10경기를 치르고 총 50경기\n",
        "\n",
        "# 프리시즌 데이터 로드\n",
        "preseason_df = pd.read_csv(\"/content/drive/MyDrive/Junmo Jeong/Projects/hitter_ops_prediction/Pre_Season_Batter.csv\")\n",
        "# 정규시즌 데이터 로드\n",
        "regular_season_df = pd.read_csv(\"/content/drive/MyDrive/Junmo Jeong/Projects/hitter_ops_prediction/Regular_Season_Batter.csv\")\n",
        "# 데이트 크기 확인\n",
        "print(preseason_df.shape)\n",
        "# 상단 5개만\n",
        "print(preseason_df.head())"
      ],
      "execution_count": null,
      "outputs": [
        {
          "output_type": "stream",
          "text": [
            "(1393, 29)\n",
            "   batter_id batter_name  ...  starting_salary    OPS\n",
            "0          0        가르시아  ...              NaN  0.959\n",
            "1          1         강경학  ...          10000만원  0.500\n",
            "2          1         강경학  ...          10000만원    NaN\n",
            "3          1         강경학  ...          10000만원  0.416\n",
            "4          1         강경학  ...          10000만원  0.493\n",
            "\n",
            "[5 rows x 29 columns]\n"
          ],
          "name": "stdout"
        }
      ]
    },
    {
      "cell_type": "code",
      "metadata": {
        "colab": {
          "base_uri": "https://localhost:8080/"
        },
        "id": "k-gxxUTwe61T",
        "outputId": "fcf6f12c-ec8c-4030-bf78-e2b217e51655"
      },
      "source": [
        "preseason_df.columns"
      ],
      "execution_count": null,
      "outputs": [
        {
          "output_type": "execute_result",
          "data": {
            "text/plain": [
              "Index(['batter_id', 'batter_name', 'year', 'team', 'avg', 'G', 'AB', 'R', 'H',\n",
              "       '2B', '3B', 'HR', 'TB', 'RBI', 'SB', 'CS', 'BB', 'HBP', 'SO', 'GDP',\n",
              "       'SLG', 'OBP', 'E', 'height/weight', 'year_born', 'position', 'career',\n",
              "       'starting_salary', 'OPS'],\n",
              "      dtype='object')"
            ]
          },
          "metadata": {
            "tags": []
          },
          "execution_count": 6
        }
      ]
    },
    {
      "cell_type": "code",
      "metadata": {
        "colab": {
          "base_uri": "https://localhost:8080/",
          "height": 317
        },
        "id": "Lg-ASXGYhpn0",
        "outputId": "eb2ee870-ccf5-4875-81a4-e03120bbfe5f"
      },
      "source": [
        "# 데이터 기초통계량 확인\n",
        "preseason_df.describe()"
      ],
      "execution_count": null,
      "outputs": [
        {
          "output_type": "execute_result",
          "data": {
            "text/html": [
              "<div>\n",
              "<style scoped>\n",
              "    .dataframe tbody tr th:only-of-type {\n",
              "        vertical-align: middle;\n",
              "    }\n",
              "\n",
              "    .dataframe tbody tr th {\n",
              "        vertical-align: top;\n",
              "    }\n",
              "\n",
              "    .dataframe thead th {\n",
              "        text-align: right;\n",
              "    }\n",
              "</style>\n",
              "<table border=\"1\" class=\"dataframe\">\n",
              "  <thead>\n",
              "    <tr style=\"text-align: right;\">\n",
              "      <th></th>\n",
              "      <th>batter_id</th>\n",
              "      <th>year</th>\n",
              "      <th>G</th>\n",
              "      <th>AB</th>\n",
              "      <th>R</th>\n",
              "      <th>H</th>\n",
              "      <th>2B</th>\n",
              "      <th>3B</th>\n",
              "      <th>HR</th>\n",
              "      <th>TB</th>\n",
              "      <th>RBI</th>\n",
              "      <th>SB</th>\n",
              "      <th>CS</th>\n",
              "      <th>BB</th>\n",
              "      <th>HBP</th>\n",
              "      <th>SO</th>\n",
              "      <th>GDP</th>\n",
              "      <th>SLG</th>\n",
              "      <th>OBP</th>\n",
              "      <th>E</th>\n",
              "      <th>OPS</th>\n",
              "    </tr>\n",
              "  </thead>\n",
              "  <tbody>\n",
              "    <tr>\n",
              "      <th>count</th>\n",
              "      <td>1393.000000</td>\n",
              "      <td>1393.000000</td>\n",
              "      <td>1393.000000</td>\n",
              "      <td>1393.000000</td>\n",
              "      <td>1393.000000</td>\n",
              "      <td>1393.000000</td>\n",
              "      <td>1393.000000</td>\n",
              "      <td>1393.000000</td>\n",
              "      <td>1393.000000</td>\n",
              "      <td>1393.000000</td>\n",
              "      <td>1393.000000</td>\n",
              "      <td>1393.000000</td>\n",
              "      <td>1393.000000</td>\n",
              "      <td>1393.000000</td>\n",
              "      <td>1393.000000</td>\n",
              "      <td>1393.000000</td>\n",
              "      <td>1393.000000</td>\n",
              "      <td>1364.000000</td>\n",
              "      <td>1368.000000</td>\n",
              "      <td>1393.000000</td>\n",
              "      <td>1364.000000</td>\n",
              "    </tr>\n",
              "    <tr>\n",
              "      <th>mean</th>\n",
              "      <td>173.434314</td>\n",
              "      <td>2013.014358</td>\n",
              "      <td>8.705671</td>\n",
              "      <td>19.201723</td>\n",
              "      <td>2.679828</td>\n",
              "      <td>5.021536</td>\n",
              "      <td>0.954774</td>\n",
              "      <td>0.119885</td>\n",
              "      <td>0.391960</td>\n",
              "      <td>7.391960</td>\n",
              "      <td>2.430725</td>\n",
              "      <td>0.629576</td>\n",
              "      <td>0.291457</td>\n",
              "      <td>1.877961</td>\n",
              "      <td>0.330223</td>\n",
              "      <td>3.714286</td>\n",
              "      <td>0.447236</td>\n",
              "      <td>0.361012</td>\n",
              "      <td>0.317912</td>\n",
              "      <td>0.381910</td>\n",
              "      <td>0.676924</td>\n",
              "    </tr>\n",
              "    <tr>\n",
              "      <th>std</th>\n",
              "      <td>94.716851</td>\n",
              "      <td>4.166757</td>\n",
              "      <td>5.562686</td>\n",
              "      <td>13.395946</td>\n",
              "      <td>2.637212</td>\n",
              "      <td>4.232584</td>\n",
              "      <td>1.196904</td>\n",
              "      <td>0.379976</td>\n",
              "      <td>0.748557</td>\n",
              "      <td>6.538787</td>\n",
              "      <td>2.698122</td>\n",
              "      <td>1.146854</td>\n",
              "      <td>0.595522</td>\n",
              "      <td>2.053392</td>\n",
              "      <td>0.642204</td>\n",
              "      <td>3.180884</td>\n",
              "      <td>0.723364</td>\n",
              "      <td>0.269892</td>\n",
              "      <td>0.151489</td>\n",
              "      <td>0.729521</td>\n",
              "      <td>0.386933</td>\n",
              "    </tr>\n",
              "    <tr>\n",
              "      <th>min</th>\n",
              "      <td>0.000000</td>\n",
              "      <td>2002.000000</td>\n",
              "      <td>1.000000</td>\n",
              "      <td>0.000000</td>\n",
              "      <td>0.000000</td>\n",
              "      <td>0.000000</td>\n",
              "      <td>0.000000</td>\n",
              "      <td>0.000000</td>\n",
              "      <td>0.000000</td>\n",
              "      <td>0.000000</td>\n",
              "      <td>0.000000</td>\n",
              "      <td>0.000000</td>\n",
              "      <td>0.000000</td>\n",
              "      <td>0.000000</td>\n",
              "      <td>0.000000</td>\n",
              "      <td>0.000000</td>\n",
              "      <td>0.000000</td>\n",
              "      <td>0.000000</td>\n",
              "      <td>0.000000</td>\n",
              "      <td>0.000000</td>\n",
              "      <td>0.000000</td>\n",
              "    </tr>\n",
              "    <tr>\n",
              "      <th>25%</th>\n",
              "      <td>99.000000</td>\n",
              "      <td>2010.000000</td>\n",
              "      <td>6.000000</td>\n",
              "      <td>9.000000</td>\n",
              "      <td>1.000000</td>\n",
              "      <td>2.000000</td>\n",
              "      <td>0.000000</td>\n",
              "      <td>0.000000</td>\n",
              "      <td>0.000000</td>\n",
              "      <td>2.000000</td>\n",
              "      <td>0.000000</td>\n",
              "      <td>0.000000</td>\n",
              "      <td>0.000000</td>\n",
              "      <td>0.000000</td>\n",
              "      <td>0.000000</td>\n",
              "      <td>1.000000</td>\n",
              "      <td>0.000000</td>\n",
              "      <td>0.217000</td>\n",
              "      <td>0.250000</td>\n",
              "      <td>0.000000</td>\n",
              "      <td>0.472000</td>\n",
              "    </tr>\n",
              "    <tr>\n",
              "      <th>50%</th>\n",
              "      <td>178.000000</td>\n",
              "      <td>2014.000000</td>\n",
              "      <td>9.000000</td>\n",
              "      <td>18.000000</td>\n",
              "      <td>2.000000</td>\n",
              "      <td>4.000000</td>\n",
              "      <td>1.000000</td>\n",
              "      <td>0.000000</td>\n",
              "      <td>0.000000</td>\n",
              "      <td>6.000000</td>\n",
              "      <td>2.000000</td>\n",
              "      <td>0.000000</td>\n",
              "      <td>0.000000</td>\n",
              "      <td>1.000000</td>\n",
              "      <td>0.000000</td>\n",
              "      <td>3.000000</td>\n",
              "      <td>0.000000</td>\n",
              "      <td>0.344500</td>\n",
              "      <td>0.333000</td>\n",
              "      <td>0.000000</td>\n",
              "      <td>0.675000</td>\n",
              "    </tr>\n",
              "    <tr>\n",
              "      <th>75%</th>\n",
              "      <td>254.000000</td>\n",
              "      <td>2017.000000</td>\n",
              "      <td>11.000000</td>\n",
              "      <td>28.000000</td>\n",
              "      <td>4.000000</td>\n",
              "      <td>8.000000</td>\n",
              "      <td>2.000000</td>\n",
              "      <td>0.000000</td>\n",
              "      <td>1.000000</td>\n",
              "      <td>11.000000</td>\n",
              "      <td>4.000000</td>\n",
              "      <td>1.000000</td>\n",
              "      <td>0.000000</td>\n",
              "      <td>3.000000</td>\n",
              "      <td>1.000000</td>\n",
              "      <td>5.000000</td>\n",
              "      <td>1.000000</td>\n",
              "      <td>0.478000</td>\n",
              "      <td>0.400000</td>\n",
              "      <td>1.000000</td>\n",
              "      <td>0.867000</td>\n",
              "    </tr>\n",
              "    <tr>\n",
              "      <th>max</th>\n",
              "      <td>344.000000</td>\n",
              "      <td>2018.000000</td>\n",
              "      <td>119.000000</td>\n",
              "      <td>183.000000</td>\n",
              "      <td>35.000000</td>\n",
              "      <td>51.000000</td>\n",
              "      <td>11.000000</td>\n",
              "      <td>4.000000</td>\n",
              "      <td>5.000000</td>\n",
              "      <td>68.000000</td>\n",
              "      <td>24.000000</td>\n",
              "      <td>9.000000</td>\n",
              "      <td>4.000000</td>\n",
              "      <td>21.000000</td>\n",
              "      <td>4.000000</td>\n",
              "      <td>36.000000</td>\n",
              "      <td>5.000000</td>\n",
              "      <td>4.000000</td>\n",
              "      <td>1.000000</td>\n",
              "      <td>5.000000</td>\n",
              "      <td>5.000000</td>\n",
              "    </tr>\n",
              "  </tbody>\n",
              "</table>\n",
              "</div>"
            ],
            "text/plain": [
              "         batter_id         year  ...            E          OPS\n",
              "count  1393.000000  1393.000000  ...  1393.000000  1364.000000\n",
              "mean    173.434314  2013.014358  ...     0.381910     0.676924\n",
              "std      94.716851     4.166757  ...     0.729521     0.386933\n",
              "min       0.000000  2002.000000  ...     0.000000     0.000000\n",
              "25%      99.000000  2010.000000  ...     0.000000     0.472000\n",
              "50%     178.000000  2014.000000  ...     0.000000     0.675000\n",
              "75%     254.000000  2017.000000  ...     1.000000     0.867000\n",
              "max     344.000000  2018.000000  ...     5.000000     5.000000\n",
              "\n",
              "[8 rows x 21 columns]"
            ]
          },
          "metadata": {
            "tags": []
          },
          "execution_count": 9
        }
      ]
    },
    {
      "cell_type": "code",
      "metadata": {
        "id": "rwtsBOgejHLB"
      },
      "source": [
        "\"\"\"\n",
        "주어진 데이터는 1393개의 행과 29개의 열을 가지고 있다. \n",
        "결측치도 포함되어 있다. (count를 보면 1393이 아닌 것들도 있다.\n",
        "year를 보면 최소값이 2002다. 주이전 데이터는 2002년부터의 기록\n",
        "\"\"\""
      ],
      "execution_count": null,
      "outputs": []
    },
    {
      "cell_type": "code",
      "metadata": {
        "colab": {
          "base_uri": "https://localhost:8080/",
          "height": 657
        },
        "id": "FY8lcgmWjcF5",
        "outputId": "15ba347e-b4e8-4fc6-cec4-ef949af9d5e2"
      },
      "source": [
        "# 수치형 변수에 대해 histogram으로 분포 살펴보자\n",
        "preseason_df.hist(figsize=(10,9))\n",
        "plt.tight_layout() # 그래프 간격 설정\n",
        "plt.show()"
      ],
      "execution_count": null,
      "outputs": [
        {
          "output_type": "display_data",
          "data": {
            "image/png": "[encoded data removed]",
            "text/plain": [
              "<Figure size 720x648 with 25 Axes>"
            ]
          },
          "metadata": {
            "tags": [],
            "needs_background": "light"
          }
        }
      ]
    },
    {
      "cell_type": "code",
      "metadata": {
        "id": "QKTRlPS3k8lO"
      },
      "source": [
        "'''\n",
        "수치형 변수의 데이터를 히스토그램으로 시각화한 결과 2B, 3B, AB, BB, CS, SLG, R, TB 등 대부분 값이 0에 가까운 낮은 값을 기록\n",
        "이것은 프리시즌 경기 수가 적어서 나타나는 현상이라고 추측할 수 있다. \n",
        "2루타(2B), 3루타(3B), HBP(사구) 등의 기록을 보면 값의 범위가 매우 작게 형성되어 있다. 이 값들은 모두 0과 10사이의 수치를 기록\n",
        "\n",
        "연도의 분포를 살펴보면 과거로 갈수록 기록의 수가 적어지는 것 확인. 과거로 갈수록 기록의 수가 적어진다. \n",
        "분포를 살펴본 결과 프리시즌 데이터는 그 양이 부족한 상황이다.\n",
        "그래서 정규시즌 데이터와 비교해 봐야 한다. \n",
        "'''"
      ],
      "execution_count": null,
      "outputs": []
    },
    {
      "cell_type": "code",
      "metadata": {
        "id": "kjnbHsdUq_Wj"
      },
      "source": [
        ""
      ],
      "execution_count": null,
      "outputs": []
    }
  ]
}